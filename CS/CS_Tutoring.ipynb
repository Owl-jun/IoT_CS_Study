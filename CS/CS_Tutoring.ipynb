{
 "cells": [
  {
   "cell_type": "markdown",
   "metadata": {},
   "source": [
    "#### 컴퓨터는 어떻게 동작할까? \n",
    "\n",
    "```python\n",
    "value = 3\n",
    "```\n",
    "- 위 코드의 의미.\n",
    "    - 메모리 공간에 int 자료형을 표현할 수 있는 공간 만큼 자리를 확보하고, 거기에 3 이라는 값을 저장한다.\n",
    "\n",
    "- 우리가 쓴 코드는 어떻게 동작하는가.\n",
    "    - 아래 코드를 살펴보자."
   ]
  },
  {
   "cell_type": "code",
   "execution_count": null,
   "metadata": {},
   "outputs": [
    {
     "name": "stdout",
     "output_type": "stream",
     "text": [
      "0\n",
      "1\n",
      "2\n",
      "3\n",
      "4\n",
      "5\n",
      "6\n",
      "7\n",
      "8\n",
      "9\n",
      "19\n"
     ]
    }
   ],
   "source": [
    "value = 3\n",
    "\n",
    "def function():\n",
    "    value = 5\n",
    "\n",
    "i = 5\n",
    "\n",
    "for i in range(10):\n",
    "    print(i)\n",
    "\n",
    "for i in range(i,20):\n",
    "    pass\n",
    "\n",
    "print(i)\n",
    "\n",
    "value += 6"
   ]
  },
  {
   "cell_type": "markdown",
   "metadata": {},
   "source": [
    "#### 변수가 저장되는 곳\n",
    "\n",
    "- 위 코드 학습\n",
    "    - 1. 맨 위 value 변수와 def function() 안의 변수는 같은 변수인가? 다른 변수인가?\n",
    "    - 2. 중간의 i 와 for i in ~~~ 안의 i는 같은 변수인가? 다른 변수인가?\n",
    "    - 3. value += 6 은 무엇을 의미할까?\n",
    "    - 4. for i in range(i, 20) 은 어떤 의미인가\n",
    "    - 5. range(start,end,steps) 함수는 어떤 자료형을 리턴하는가?"
   ]
  },
  {
   "cell_type": "code",
   "execution_count": 10,
   "metadata": {},
   "outputs": [
    {
     "data": {
      "text/plain": [
       "range(0, 3)"
      ]
     },
     "execution_count": 10,
     "metadata": {},
     "output_type": "execute_result"
    }
   ],
   "source": [
    "value = range(3)\n",
    "value"
   ]
  }
 ],
 "metadata": {
  "kernelspec": {
   "display_name": "3.11.9",
   "language": "python",
   "name": "python3"
  },
  "language_info": {
   "codemirror_mode": {
    "name": "ipython",
    "version": 3
   },
   "file_extension": ".py",
   "mimetype": "text/x-python",
   "name": "python",
   "nbconvert_exporter": "python",
   "pygments_lexer": "ipython3",
   "version": "3.11.9"
  }
 },
 "nbformat": 4,
 "nbformat_minor": 2
}
