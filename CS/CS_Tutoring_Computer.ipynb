{
 "cells": [
  {
   "cell_type": "markdown",
   "metadata": {},
   "source": [
    "#### 컴퓨터는 어떻게 동작할까? \n",
    "\n",
    "- CPU + 레지스터 / 메모리(RAM) / IO ...\n",
    "    - CPU : RAM과 함께 사람으로 치면 뇌의 역할을 한다.\n",
    "        - 레지스터 : CPU가 연산을 할 때, 필요한 값을 저장하는 **초고속** 저장소 이다.\n",
    "            - CPU가 연산할 데이터를 RAM → 캐시 메모리 → 레지스터 순으로 가져온다\n",
    "\n",
    "        - OS의 ISA(인스트럭션 셋 아키텍쳐, 즉, 컴퓨터 자체의 명령어(기계어))가 32비트, 64비트 여부에 따라, 레지스터가 한번에 수행할 수 있는 용량이 달라진다.\n",
    "        - 예를 들어 64비트 CPU는 한 번에 64비트(8바이트) 크기의 데이터를 처리할 수 있다. 하지만 연산의 종류에 따라 8바이트보다 적거나 많을 수도 있다.\n",
    "            - 코어 는 CPU 안에서 연산을 수행하는 처리장치다.\n",
    "            - 궁금증, 그렇다면 코어가 많다면 한번에 코어수 x 8byte 만큼 수행이 가능한건가?\n",
    "                - 해결, 프로그램이 싱글코어만 사용하도록 프로그래밍 되어 있다면, 멀티코어는 아무 쓸모가 없어진다.\n",
    "                - 하지만, 병렬처리 / 멀티스레딩 처리가 되어있다면 여러코어를 동시에 활용 할 수 있다.\n",
    "\n",
    "        - 그 외 : ALU(산술) , CU(제어) , FPU(부동소수점) , 캐시메모리(RAM보다 빠른 고속 메모리, 자주 사용하는 데이터를 저장 하여 CPU 속도향상에 도움)\n",
    "\n",
    "    - RAM : 프로세스 (프로그램)을 실행하면 저장소(하드디스크) 에서 프로그램을 가져와 올려 실행하는 곳\n",
    "        - RAM 공간이 부족하다면?\n",
    "            - 가상메모리 활용 , 하드디스크의 일부분을 스왑 영역으로 이동시켜 사용할 수 있다.        \n",
    "                - 가상메모리 & 스왑 동작 방식 간단요약\n",
    "                    - 프로그램 실행 -> RAM 에 올림 -> RAM이 부족함 -> 사용하지않는 데이터를 하드로 보내기 (스왑) -> 필요하면 다시 RAM으로 가져옴 but, 속도는 굉장히 느려질 수 있다.\n",
    "\n",
    "\n",
    "- 우리가 코드를 짜고, 실행시키면 하드디스크 -> RAM -> 캐시 -> 레지스터 -> CPU 연산 수행 .... 순으로 실행된다.\n",
    "\n",
    "\n",
    "```python\n",
    "value = 3\n",
    "```\n",
    "- 위 코드의 의미.\n",
    "    - 메모리 공간에 int 자료형을 표현할 수 있는 공간 만큼 자리를 확보하고, 거기에 3 이라는 값을 저장한다.\n",
    "\n",
    "- 우리가 쓴 코드는 어떻게 동작하는가.\n",
    "    - 아래 코드를 살펴보자."
   ]
  },
  {
   "cell_type": "code",
   "execution_count": 2,
   "metadata": {},
   "outputs": [
    {
     "name": "stdout",
     "output_type": "stream",
     "text": [
      "0 1 2 3 4 5 6 7 8 9 19\n"
     ]
    }
   ],
   "source": [
    "value = 3\n",
    "\n",
    "def function():\n",
    "    value = 5\n",
    "\n",
    "i = 5\n",
    "\n",
    "for i in range(10):\n",
    "    print(i, end=' ')\n",
    "\n",
    "for i in range(i,20):\n",
    "    pass\n",
    "\n",
    "print(i)\n",
    "\n",
    "value += 6"
   ]
  },
  {
   "cell_type": "markdown",
   "metadata": {},
   "source": [
    "#### 변수가 저장되는 곳\n",
    "\n",
    "- 위 코드 학습\n",
    "    - 1. 맨 위 value 변수와 def function() 안의 변수는 같은 변수인가? 다른 변수인가?\n",
    "    - 2. 중간의 i 와 for i in ~~~ 안의 i는 같은 변수인가? 다른 변수인가?\n",
    "    - 3. value += 6 은 무엇을 의미할까?\n",
    "    - 4. for i in range(i, 20) 은 어떤 의미인가\n",
    "    - 5. range(start,end,steps) 함수는 어떤 자료형을 리턴하는가?"
   ]
  },
  {
   "cell_type": "code",
   "execution_count": 10,
   "metadata": {},
   "outputs": [
    {
     "data": {
      "text/plain": [
       "range(0, 3)"
      ]
     },
     "execution_count": 10,
     "metadata": {},
     "output_type": "execute_result"
    }
   ],
   "source": [
    "value = range(3)\n",
    "value"
   ]
  },
  {
   "cell_type": "markdown",
   "metadata": {},
   "source": []
  }
 ],
 "metadata": {
  "kernelspec": {
   "display_name": "3.11.9",
   "language": "python",
   "name": "python3"
  },
  "language_info": {
   "codemirror_mode": {
    "name": "ipython",
    "version": 3
   },
   "file_extension": ".py",
   "mimetype": "text/x-python",
   "name": "python",
   "nbconvert_exporter": "python",
   "pygments_lexer": "ipython3",
   "version": "3.11.9"
  }
 },
 "nbformat": 4,
 "nbformat_minor": 2
}
