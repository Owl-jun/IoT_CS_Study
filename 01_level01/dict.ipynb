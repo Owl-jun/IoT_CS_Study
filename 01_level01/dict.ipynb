{
 "cells": [
  {
   "cell_type": "markdown",
   "metadata": {},
   "source": [
    "### 기초문법 숙달, 딕셔너리 편\n",
    "\n",
    "- 딕셔너리란 ? \n",
    "    - { key : value } 형태로 저장되는 데이터 구조 입니다.\n",
    "\n",
    "    - 접근 방법\n",
    "        - dict[key] 로 접근하면 value 를 리턴합니다. \n",
    "            - value\n",
    "            \n",
    "    - 필수 메서드 : keys() , values()"
   ]
  },
  {
   "cell_type": "code",
   "execution_count": null,
   "metadata": {},
   "outputs": [],
   "source": [
    "dict = { '최보정' : 1995 , '이형우' : 1996 , '강석준' : 1995 , '우동관' : 2000 , '황석준' : 1996 , '김찬수' : 2000 }\n",
    "\n",
    "# 접근 방법\n",
    "print(dict['최보정']) # 1995\n",
    "\n",
    "# keys() : 딕셔너리의 모든 key값을 반환한다.\n",
    "print(dict.keys()) # dict_keys(['최보정', '이형우', '강석준', '우동관', '황석준', '김찬수'])\n",
    "\n",
    "# values() : 딕셔너리의 모든 value값을 반환한다.\n",
    "print(dict.values()) # dict_values([1995, 1996, 1995, 2000, 1996, 2000])\n",
    "\n",
    "# 사용 꿀팁, values 혹은 keys 를 리스트 등에 담아 저장가능합니다.\n",
    "temp = dict.values()\n",
    "print(temp) # [1995,1996,1995,2000,1996,2000]\n",
    "\n",
    "# 챌린지 .\n",
    "\"\"\" \n",
    "강황석준 조 멤버들의 나이를 구하는 로직을 작성 후, 출력해보세요. \n",
    "조건 . \n",
    "여기서 말하는 나이는 (현재년도 - 출생년도) 입니다.\n",
    "계산은 컴퓨터가 해야합니다, 손수 계산해서 출력하지 마세요.\n",
    "정답을 구하는 방법은 겁나 많습니다. 결과값이 정확하게 나오게만 해주세요.\n",
    "\n",
    "이번 문제는 다 같이 모여서 한 분씩 코드리뷰 하겠습니다.\n",
    "\n",
    "<결과값> \n",
    "최보정 : 30세\n",
    "이형우 : 29세\n",
    "강석준 : 30세\n",
    "우동관 : 25세\n",
    "황석준 : 29세\n",
    "김찬수 : 25세\n",
    "\"\"\"\n",
    "\n",
    "# 여기 아래 코드 작성 !"
   ]
  }
 ],
 "metadata": {
  "kernelspec": {
   "display_name": "3.11.9",
   "language": "python",
   "name": "python3"
  },
  "language_info": {
   "codemirror_mode": {
    "name": "ipython",
    "version": 3
   },
   "file_extension": ".py",
   "mimetype": "text/x-python",
   "name": "python",
   "nbconvert_exporter": "python",
   "pygments_lexer": "ipython3",
   "version": "3.11.9"
  }
 },
 "nbformat": 4,
 "nbformat_minor": 2
}
