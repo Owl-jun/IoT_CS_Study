{
 "cells": [
  {
   "cell_type": "markdown",
   "metadata": {},
   "source": [
    "### 이진 탐색 트리\n",
    "\n",
    "- [이진탐색트리구현](./s_250218_binary_search_tree.py)\n",
    "\n",
    "- 삭제 알고리즘\n",
    "\n",
    "    - 삭제할 노드의 자식이 하나인데 왼쪽 일 경우.\n",
    "        - <img src = \"./img/one_l.png\" width = 600>\n",
    "\n",
    "    - 삭제할 노드의 자식이 하나인데 오른쪽 일 경우.\n",
    "        - <img src = \"./img/one_r.png\" width = 600>\n",
    "\n",
    "    - 삭제할 노드의 자식이 둘 일 경우.\n",
    "        - <img src = \"./img/two.png\" width = 600>\n",
    "\n",
    "\n"
   ]
  }
 ],
 "metadata": {
  "language_info": {
   "name": "python"
  }
 },
 "nbformat": 4,
 "nbformat_minor": 2
}
