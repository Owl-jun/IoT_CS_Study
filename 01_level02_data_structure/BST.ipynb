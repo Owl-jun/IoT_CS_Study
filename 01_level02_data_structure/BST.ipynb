{
 "cells": [
  {
   "cell_type": "markdown",
   "metadata": {},
   "source": [
    "### BST (binary_search_tree)\n",
    "\n",
    "- 이진 탐색 트리 란?\n"
   ]
  }
 ],
 "metadata": {
  "language_info": {
   "name": "python"
  }
 },
 "nbformat": 4,
 "nbformat_minor": 2
}
