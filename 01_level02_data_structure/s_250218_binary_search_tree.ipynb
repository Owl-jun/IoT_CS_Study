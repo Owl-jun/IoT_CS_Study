{
 "cells": [
  {
   "cell_type": "markdown",
   "metadata": {},
   "source": [
    "### 이진 탐색 트리\n",
    "\n",
    "- [이진탐색트리구현](./s_250218_binary_search_tree.py)\n",
    "\n",
    "- 이진 탐색 트리 란 무엇인가?\n",
    "\n",
    "    - **데이터 삽입 시, 미리 정렬이 되어 입력되는 자료구조**\n",
    "\n",
    "    - 그렇기 때문에 , 생성 시 시간이 오래 걸리지만, 탐색 등의 꺼내오는 작업에서 시간이 오래걸리지 않는다.\n",
    "        - 즉 자료를 찾을 때 이만한 자료구조가 없다는 뜻이다.\n",
    "\n",
    "\n",
    "\n",
    "- 헷갈리는 삭제 알고리즘\n",
    "\n",
    "    - 삭제할 노드의 자식이 하나인데 왼쪽 일 경우.\n",
    "        - <img src = \"./img/one_l.png\" width = 600>\n",
    "\n",
    "    - 삭제할 노드의 자식이 하나인데 오른쪽 일 경우.\n",
    "        - <img src = \"./img/one_r.png\" width = 600>\n",
    "\n",
    "    - 삭제할 노드의 자식이 둘 일 경우.\n",
    "        - <img src = \"./img/two.png\" width = 600>\n",
    "\n",
    "\n"
   ]
  },
  {
   "cell_type": "code",
   "execution_count": null,
   "metadata": {},
   "outputs": [],
   "source": [
    "# ---------------\n",
    "# 삭제\n",
    "# ---------------\n",
    "def delete(self, delName):\n",
    "    self.root = self._delete_recursive(self.root, delName)  # 재귀 함수 호출\n",
    "\n",
    "def _delete_recursive(self, node, delName): \n",
    "    if node is None:                                        # 노드의 데이터가 존재하지 않는다면,\n",
    "        print(f'{delName}(이/가) 트리에 없음')                \n",
    "        return node                                         # 없는 노드를 삭제하려고 하는거니까 , 받은 노드를 다시 반납.\n",
    "\n",
    "    if delName < node.data:                                     # 노드의 데이터가 들어있다면, 탐색시작 , 지우려는 노드의 데이터 delName 대소관계비교\n",
    "        node.left = self._delete_recursive(node.left, delName)  # delName이 현재 루트노드의 데이터보다 작다면, 루트의 왼쪽자식을 기준으로 재귀호출\n",
    "    elif delName > node.data:\n",
    "        node.right = self._delete_recursive(node.right, delName)    # 위와 같음\n",
    "    else:\n",
    "        print(f'{delName} 삭제 진행')                               # 작지도않고 크지도 않다면, 같다는 소리, 즉 삭제시작\n",
    "\n",
    "        # 애 없음\n",
    "        if node.left is None and node.right is None:                # 리프노드(자식없음) 간단하게, delName이랑 같은 데이터를 가진 노드를 None으로 밀어버림\n",
    "            return None\n",
    "        \n",
    "        # 자식 한놈     \n",
    "        if node.left is None:                                       # 오른쪽 자식만 가지고 있다면, 오른쪽 자식을 지워지는 노드의 위치로 올려준다.\n",
    "            return node.right\n",
    "        if node.right is None:                                      # 왼쪽 자식만 가지고 있다면, 왼쪽 자식을 지워지는 노드의 위치로 올려준다.\n",
    "            return node.left\n",
    "\n",
    "        # 자식 두놈\n",
    "        successor = self._find_min(node.right)                      # 이건 취향의 차이이다, 자식이 둘 일때, 지워지는 노드의 자리에 무엇이 와야하는가? 는 오른쪽으로 한칸 이동 후 왼쪽으로 쭉 가서 끝에있는 녀석이거나\n",
    "        node.data = successor.data                                  # 왼쪽으로 한칸 이동 후 오른쪽으로 쭉 가서 끝에있는 녀석이 대체자가 된다. 그래서 _find_min 함수를 통해 찾고 자리를 바꿔준다.\n",
    "        node.right = self._delete_recursive(node.right, successor.data)  # 대체자 노드가 위치하고있던 기존의 노드 삭제\n",
    "\n",
    "    return node\n",
    "\n",
    "def _find_min(self, node):\n",
    "    while node.left:\n",
    "        node = node.left\n",
    "    return node"
   ]
  }
 ],
 "metadata": {
  "kernelspec": {
   "display_name": "3.11.9",
   "language": "python",
   "name": "python3"
  },
  "language_info": {
   "name": "python",
   "version": "3.11.9"
  }
 },
 "nbformat": 4,
 "nbformat_minor": 2
}
